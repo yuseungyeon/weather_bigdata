{
 "cells": [
  {
   "cell_type": "code",
   "execution_count": 1,
   "id": "associate-hunger",
   "metadata": {},
   "outputs": [],
   "source": [
    "import numpy as np\n",
    "import pandas as pd\n",
    "import datetime as dt"
   ]
  },
  {
   "cell_type": "code",
   "execution_count": 2,
   "id": "oriental-recovery",
   "metadata": {},
   "outputs": [],
   "source": [
    "cold = pd.read_csv(\"D:/날씨_빅데이터/weather_cold.csv\")\n",
    "dry = pd.read_csv(\"D:/날씨_빅데이터/weather_dry.csv\")\n",
    "heat = pd.read_csv(\"D:/날씨_빅데이터/weather_heat.csv\")\n",
    "snow = pd.read_csv(\"D:/날씨_빅데이터/weather_snow.csv\")\n",
    "storm = pd.read_csv(\"D:/날씨_빅데이터/weather_storm.csv\")\n",
    "wind = pd.read_csv(\"D:/날씨_빅데이터/weather_wind.csv\")"
   ]
  },
  {
   "cell_type": "code",
   "execution_count": 3,
   "id": "exempt-gothic",
   "metadata": {},
   "outputs": [
    {
     "data": {
      "text/html": [
       "<div>\n",
       "<style scoped>\n",
       "    .dataframe tbody tr th:only-of-type {\n",
       "        vertical-align: middle;\n",
       "    }\n",
       "\n",
       "    .dataframe tbody tr th {\n",
       "        vertical-align: top;\n",
       "    }\n",
       "\n",
       "    .dataframe thead th {\n",
       "        text-align: right;\n",
       "    }\n",
       "</style>\n",
       "<table border=\"1\" class=\"dataframe\">\n",
       "  <thead>\n",
       "    <tr style=\"text-align: right;\">\n",
       "      <th></th>\n",
       "      <th>Unnamed: 0</th>\n",
       "      <th>fc_tma</th>\n",
       "    </tr>\n",
       "  </thead>\n",
       "  <tbody>\n",
       "    <tr>\n",
       "      <th>0</th>\n",
       "      <td>1</td>\n",
       "      <td>2018-01-01 04:00:00.0</td>\n",
       "    </tr>\n",
       "    <tr>\n",
       "      <th>1</th>\n",
       "      <td>2</td>\n",
       "      <td>2018-01-05 20:00:00.0</td>\n",
       "    </tr>\n",
       "    <tr>\n",
       "      <th>2</th>\n",
       "      <td>3</td>\n",
       "      <td>2018-01-06 04:00:00.0</td>\n",
       "    </tr>\n",
       "    <tr>\n",
       "      <th>3</th>\n",
       "      <td>4</td>\n",
       "      <td>2018-01-08 16:00:00.0</td>\n",
       "    </tr>\n",
       "    <tr>\n",
       "      <th>4</th>\n",
       "      <td>5</td>\n",
       "      <td>2018-01-08 16:00:00.0</td>\n",
       "    </tr>\n",
       "  </tbody>\n",
       "</table>\n",
       "</div>"
      ],
      "text/plain": [
       "   Unnamed: 0                 fc_tma\n",
       "0           1  2018-01-01 04:00:00.0\n",
       "1           2  2018-01-05 20:00:00.0\n",
       "2           3  2018-01-06 04:00:00.0\n",
       "3           4  2018-01-08 16:00:00.0\n",
       "4           5  2018-01-08 16:00:00.0"
      ]
     },
     "execution_count": 3,
     "metadata": {},
     "output_type": "execute_result"
    }
   ],
   "source": [
    "wind.head()"
   ]
  },
  {
   "cell_type": "code",
   "execution_count": 4,
   "id": "national-guess",
   "metadata": {},
   "outputs": [],
   "source": [
    "cold['fc_tma'] = pd.to_datetime(cold['fc_tma']).dt.date\n",
    "dry['fc_tma'] = pd.to_datetime(dry['fc_tma']).dt.date\n",
    "heat['fc_tma'] = pd.to_datetime(heat['fc_tma']).dt.date\n",
    "snow['fc_tma'] = pd.to_datetime(snow['fc_tma']).dt.date\n",
    "storm['fc_tma'] = pd.to_datetime(storm['fc_tma']).dt.date\n",
    "wind['fc_tma'] = pd.to_datetime(wind['fc_tma']).dt.date"
   ]
  },
  {
   "cell_type": "code",
   "execution_count": 5,
   "id": "tough-kelly",
   "metadata": {},
   "outputs": [],
   "source": [
    "cold = cold.drop(['Unnamed: 0'], axis=1)\n",
    "dry = dry.drop(['Unnamed: 0'], axis=1)\n",
    "heat = heat.drop(['Unnamed: 0'], axis=1)\n",
    "snow = snow.drop(['Unnamed: 0'], axis=1)\n",
    "storm = storm.drop(['Unnamed: 0'], axis=1)\n",
    "wind = wind.drop(['Unnamed: 0'], axis=1)"
   ]
  },
  {
   "cell_type": "code",
   "execution_count": 6,
   "id": "everyday-export",
   "metadata": {},
   "outputs": [],
   "source": [
    "cold = cold.drop_duplicates()\n",
    "dry = dry.drop_duplicates()\n",
    "heat = heat.drop_duplicates()\n",
    "snow = snow.drop_duplicates()\n",
    "storm = storm.drop_duplicates()\n",
    "wind = wind.drop_duplicates()"
   ]
  },
  {
   "cell_type": "code",
   "execution_count": 7,
   "id": "confused-pottery",
   "metadata": {},
   "outputs": [
    {
     "data": {
      "text/html": [
       "<div>\n",
       "<style scoped>\n",
       "    .dataframe tbody tr th:only-of-type {\n",
       "        vertical-align: middle;\n",
       "    }\n",
       "\n",
       "    .dataframe tbody tr th {\n",
       "        vertical-align: top;\n",
       "    }\n",
       "\n",
       "    .dataframe thead th {\n",
       "        text-align: right;\n",
       "    }\n",
       "</style>\n",
       "<table border=\"1\" class=\"dataframe\">\n",
       "  <thead>\n",
       "    <tr style=\"text-align: right;\">\n",
       "      <th></th>\n",
       "      <th>fc_tma</th>\n",
       "    </tr>\n",
       "  </thead>\n",
       "  <tbody>\n",
       "    <tr>\n",
       "      <th>1735</th>\n",
       "      <td>2019-09-22</td>\n",
       "    </tr>\n",
       "    <tr>\n",
       "      <th>1986</th>\n",
       "      <td>2019-09-23</td>\n",
       "    </tr>\n",
       "    <tr>\n",
       "      <th>2017</th>\n",
       "      <td>2019-10-01</td>\n",
       "    </tr>\n",
       "    <tr>\n",
       "      <th>2019</th>\n",
       "      <td>2019-10-02</td>\n",
       "    </tr>\n",
       "    <tr>\n",
       "      <th>2160</th>\n",
       "      <td>2019-10-03</td>\n",
       "    </tr>\n",
       "  </tbody>\n",
       "</table>\n",
       "</div>"
      ],
      "text/plain": [
       "          fc_tma\n",
       "1735  2019-09-22\n",
       "1986  2019-09-23\n",
       "2017  2019-10-01\n",
       "2019  2019-10-02\n",
       "2160  2019-10-03"
      ]
     },
     "execution_count": 7,
     "metadata": {},
     "output_type": "execute_result"
    }
   ],
   "source": [
    "storm.tail()"
   ]
  },
  {
   "cell_type": "code",
   "execution_count": 8,
   "id": "friendly-matthew",
   "metadata": {},
   "outputs": [],
   "source": [
    "cold = cold.reset_index(drop=True)\n",
    "dry = dry.reset_index(drop=True)\n",
    "heat = heat.reset_index(drop=True)\n",
    "snow = snow.reset_index(drop=True)\n",
    "storm = storm.reset_index(drop=True)\n",
    "wind = wind.reset_index(drop=True)"
   ]
  },
  {
   "cell_type": "code",
   "execution_count": 9,
   "id": "accessible-netscape",
   "metadata": {},
   "outputs": [],
   "source": [
    "cold.to_csv(\"D:/날씨_빅데이터/modify_cold.csv\", encoding = 'utf-8')\n",
    "dry.to_csv(\"D:/날씨_빅데이터/modify_dry.csv\", encoding = 'utf-8')\n",
    "heat.to_csv(\"D:/날씨_빅데이터/modify_heat.csv\", encoding = 'utf-8')\n",
    "snow.to_csv(\"D:/날씨_빅데이터/modify_snow.csv\", encoding = 'utf-8')\n",
    "storm.to_csv(\"D:/날씨_빅데이터/modify_storm.csv\", encoding = 'utf-8')\n",
    "wind.to_csv(\"D:/날씨_빅데이터/modify_wind.csv\", encoding = 'utf-8')"
   ]
  },
  {
   "cell_type": "code",
   "execution_count": null,
   "id": "weekly-facing",
   "metadata": {},
   "outputs": [],
   "source": []
  }
 ],
 "metadata": {
  "kernelspec": {
   "display_name": "Python 3",
   "language": "python",
   "name": "python3"
  },
  "language_info": {
   "codemirror_mode": {
    "name": "ipython",
    "version": 3
   },
   "file_extension": ".py",
   "mimetype": "text/x-python",
   "name": "python",
   "nbconvert_exporter": "python",
   "pygments_lexer": "ipython3",
   "version": "3.6.9"
  }
 },
 "nbformat": 4,
 "nbformat_minor": 5
}
