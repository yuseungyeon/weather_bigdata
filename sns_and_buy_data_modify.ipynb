{
 "cells": [
  {
   "cell_type": "code",
   "execution_count": 1,
   "id": "funded-thesis",
   "metadata": {},
   "outputs": [],
   "source": [
    "import pandas as pd"
   ]
  },
  {
   "cell_type": "code",
   "execution_count": 2,
   "id": "hidden-palace",
   "metadata": {},
   "outputs": [],
   "source": [
    "data = pd.read_csv(\"C:/Users/hello/Downloads/sns_data.csv\")"
   ]
  },
  {
   "cell_type": "code",
   "execution_count": 3,
   "id": "stylish-treat",
   "metadata": {},
   "outputs": [
    {
     "data": {
      "text/html": [
       "<div>\n",
       "<style scoped>\n",
       "    .dataframe tbody tr th:only-of-type {\n",
       "        vertical-align: middle;\n",
       "    }\n",
       "\n",
       "    .dataframe tbody tr th {\n",
       "        vertical-align: top;\n",
       "    }\n",
       "\n",
       "    .dataframe thead th {\n",
       "        text-align: right;\n",
       "    }\n",
       "</style>\n",
       "<table border=\"1\" class=\"dataframe\">\n",
       "  <thead>\n",
       "    <tr style=\"text-align: right;\">\n",
       "      <th></th>\n",
       "      <th>Unnamed: 0</th>\n",
       "      <th>date</th>\n",
       "      <th>big_cat</th>\n",
       "      <th>sm_cat</th>\n",
       "      <th>cnt</th>\n",
       "    </tr>\n",
       "  </thead>\n",
       "  <tbody>\n",
       "    <tr>\n",
       "      <th>0</th>\n",
       "      <td>1</td>\n",
       "      <td>20180101</td>\n",
       "      <td>뷰티</td>\n",
       "      <td>기능성 링클케어 화장품</td>\n",
       "      <td>12.154295</td>\n",
       "    </tr>\n",
       "    <tr>\n",
       "      <th>1</th>\n",
       "      <td>2</td>\n",
       "      <td>20180101</td>\n",
       "      <td>뷰티</td>\n",
       "      <td>기능성 모공관리 화장품</td>\n",
       "      <td>36.000828</td>\n",
       "    </tr>\n",
       "    <tr>\n",
       "      <th>2</th>\n",
       "      <td>3</td>\n",
       "      <td>20180101</td>\n",
       "      <td>뷰티</td>\n",
       "      <td>기능성 아이케어 화장품</td>\n",
       "      <td>0.895782</td>\n",
       "    </tr>\n",
       "    <tr>\n",
       "      <th>3</th>\n",
       "      <td>4</td>\n",
       "      <td>20180101</td>\n",
       "      <td>뷰티</td>\n",
       "      <td>기능성 영양보습 화장품</td>\n",
       "      <td>14.868175</td>\n",
       "    </tr>\n",
       "    <tr>\n",
       "      <th>4</th>\n",
       "      <td>5</td>\n",
       "      <td>20180101</td>\n",
       "      <td>뷰티</td>\n",
       "      <td>기능성 트러블케어 화장품</td>\n",
       "      <td>48.819391</td>\n",
       "    </tr>\n",
       "  </tbody>\n",
       "</table>\n",
       "</div>"
      ],
      "text/plain": [
       "   Unnamed: 0      date big_cat         sm_cat        cnt\n",
       "0           1  20180101      뷰티   기능성 링클케어 화장품  12.154295\n",
       "1           2  20180101      뷰티   기능성 모공관리 화장품  36.000828\n",
       "2           3  20180101      뷰티   기능성 아이케어 화장품   0.895782\n",
       "3           4  20180101      뷰티   기능성 영양보습 화장품  14.868175\n",
       "4           5  20180101      뷰티  기능성 트러블케어 화장품  48.819391"
      ]
     },
     "execution_count": 3,
     "metadata": {},
     "output_type": "execute_result"
    }
   ],
   "source": [
    "data.head()"
   ]
  },
  {
   "cell_type": "code",
   "execution_count": null,
   "id": "awful-mixture",
   "metadata": {},
   "outputs": [],
   "source": []
  },
  {
   "cell_type": "code",
   "execution_count": 4,
   "id": "refined-withdrawal",
   "metadata": {},
   "outputs": [],
   "source": [
    "is_food = data['big_cat'] == '식품'\n",
    "data = data[is_food]\n",
    "\n",
    "data = data.drop(['big_cat', 'Unnamed: 0'], axis=1)"
   ]
  },
  {
   "cell_type": "code",
   "execution_count": 5,
   "id": "infinite-milwaukee",
   "metadata": {},
   "outputs": [
    {
     "data": {
      "text/html": [
       "<div>\n",
       "<style scoped>\n",
       "    .dataframe tbody tr th:only-of-type {\n",
       "        vertical-align: middle;\n",
       "    }\n",
       "\n",
       "    .dataframe tbody tr th {\n",
       "        vertical-align: top;\n",
       "    }\n",
       "\n",
       "    .dataframe thead th {\n",
       "        text-align: right;\n",
       "    }\n",
       "</style>\n",
       "<table border=\"1\" class=\"dataframe\">\n",
       "  <thead>\n",
       "    <tr style=\"text-align: right;\">\n",
       "      <th></th>\n",
       "      <th>date</th>\n",
       "      <th>sm_cat</th>\n",
       "      <th>cnt</th>\n",
       "    </tr>\n",
       "  </thead>\n",
       "  <tbody>\n",
       "    <tr>\n",
       "      <th>131</th>\n",
       "      <td>20180101</td>\n",
       "      <td>홍삼 분말/환</td>\n",
       "      <td>0.419303</td>\n",
       "    </tr>\n",
       "    <tr>\n",
       "      <th>132</th>\n",
       "      <td>20180101</td>\n",
       "      <td>탄산음료</td>\n",
       "      <td>12.877921</td>\n",
       "    </tr>\n",
       "    <tr>\n",
       "      <th>133</th>\n",
       "      <td>20180101</td>\n",
       "      <td>헛개/가시오가피</td>\n",
       "      <td>1.689494</td>\n",
       "    </tr>\n",
       "    <tr>\n",
       "      <th>134</th>\n",
       "      <td>20180101</td>\n",
       "      <td>한방 분말/환제품</td>\n",
       "      <td>2.176787</td>\n",
       "    </tr>\n",
       "    <tr>\n",
       "      <th>135</th>\n",
       "      <td>20180101</td>\n",
       "      <td>이온음료</td>\n",
       "      <td>1.643678</td>\n",
       "    </tr>\n",
       "  </tbody>\n",
       "</table>\n",
       "</div>"
      ],
      "text/plain": [
       "         date     sm_cat        cnt\n",
       "131  20180101    홍삼 분말/환   0.419303\n",
       "132  20180101       탄산음료  12.877921\n",
       "133  20180101   헛개/가시오가피   1.689494\n",
       "134  20180101  한방 분말/환제품   2.176787\n",
       "135  20180101       이온음료   1.643678"
      ]
     },
     "execution_count": 5,
     "metadata": {},
     "output_type": "execute_result"
    }
   ],
   "source": [
    "data.head()"
   ]
  },
  {
   "cell_type": "code",
   "execution_count": 6,
   "id": "corresponding-keyboard",
   "metadata": {},
   "outputs": [],
   "source": [
    "data.to_csv('C:/Users/hello/Downloads/modify_sns_data.csv', index=False, encoding='utf-8')"
   ]
  },
  {
   "cell_type": "code",
   "execution_count": 7,
   "id": "stock-consultancy",
   "metadata": {},
   "outputs": [],
   "source": [
    "data1 = pd.read_csv('C:/Users/hello/Downloads/buy_data.csv')"
   ]
  },
  {
   "cell_type": "code",
   "execution_count": 8,
   "id": "finished-plaintiff",
   "metadata": {
    "scrolled": true
   },
   "outputs": [
    {
     "data": {
      "text/html": [
       "<div>\n",
       "<style scoped>\n",
       "    .dataframe tbody tr th:only-of-type {\n",
       "        vertical-align: middle;\n",
       "    }\n",
       "\n",
       "    .dataframe tbody tr th {\n",
       "        vertical-align: top;\n",
       "    }\n",
       "\n",
       "    .dataframe thead th {\n",
       "        text-align: right;\n",
       "    }\n",
       "</style>\n",
       "<table border=\"1\" class=\"dataframe\">\n",
       "  <thead>\n",
       "    <tr style=\"text-align: right;\">\n",
       "      <th></th>\n",
       "      <th>Unnamed: 0</th>\n",
       "      <th>date</th>\n",
       "      <th>sex</th>\n",
       "      <th>age</th>\n",
       "      <th>big_cat</th>\n",
       "      <th>sm_cat</th>\n",
       "      <th>qty</th>\n",
       "    </tr>\n",
       "  </thead>\n",
       "  <tbody>\n",
       "    <tr>\n",
       "      <th>0</th>\n",
       "      <td>1</td>\n",
       "      <td>20180101</td>\n",
       "      <td>F</td>\n",
       "      <td>20</td>\n",
       "      <td>식품</td>\n",
       "      <td>가공란</td>\n",
       "      <td>37</td>\n",
       "    </tr>\n",
       "    <tr>\n",
       "      <th>1</th>\n",
       "      <td>2</td>\n",
       "      <td>20180101</td>\n",
       "      <td>F</td>\n",
       "      <td>30</td>\n",
       "      <td>식품</td>\n",
       "      <td>가공란</td>\n",
       "      <td>16</td>\n",
       "    </tr>\n",
       "    <tr>\n",
       "      <th>2</th>\n",
       "      <td>3</td>\n",
       "      <td>20180101</td>\n",
       "      <td>F</td>\n",
       "      <td>40</td>\n",
       "      <td>식품</td>\n",
       "      <td>가공란</td>\n",
       "      <td>9</td>\n",
       "    </tr>\n",
       "    <tr>\n",
       "      <th>3</th>\n",
       "      <td>4</td>\n",
       "      <td>20180101</td>\n",
       "      <td>F</td>\n",
       "      <td>50</td>\n",
       "      <td>식품</td>\n",
       "      <td>가공란</td>\n",
       "      <td>3</td>\n",
       "    </tr>\n",
       "    <tr>\n",
       "      <th>4</th>\n",
       "      <td>5</td>\n",
       "      <td>20180101</td>\n",
       "      <td>M</td>\n",
       "      <td>20</td>\n",
       "      <td>식품</td>\n",
       "      <td>가공란</td>\n",
       "      <td>13</td>\n",
       "    </tr>\n",
       "  </tbody>\n",
       "</table>\n",
       "</div>"
      ],
      "text/plain": [
       "   Unnamed: 0      date sex  age big_cat sm_cat  qty\n",
       "0           1  20180101   F   20      식품    가공란   37\n",
       "1           2  20180101   F   30      식품    가공란   16\n",
       "2           3  20180101   F   40      식품    가공란    9\n",
       "3           4  20180101   F   50      식품    가공란    3\n",
       "4           5  20180101   M   20      식품    가공란   13"
      ]
     },
     "execution_count": 8,
     "metadata": {},
     "output_type": "execute_result"
    }
   ],
   "source": [
    "data1.head()"
   ]
  },
  {
   "cell_type": "code",
   "execution_count": 9,
   "id": "wound-still",
   "metadata": {},
   "outputs": [],
   "source": [
    "buy_data = pd.read_csv('C:/Users/hello/Downloads/buy_data.csv')"
   ]
  },
  {
   "cell_type": "code",
   "execution_count": 10,
   "id": "conditional-ownership",
   "metadata": {},
   "outputs": [
    {
     "data": {
      "text/plain": [
       "(2056899, 7)"
      ]
     },
     "execution_count": 10,
     "metadata": {},
     "output_type": "execute_result"
    }
   ],
   "source": [
    "buy_data.head()\n",
    "buy_data.shape"
   ]
  },
  {
   "cell_type": "code",
   "execution_count": 11,
   "id": "creative-institution",
   "metadata": {},
   "outputs": [],
   "source": [
    "is_food = buy_data['big_cat'] == '식품'\n",
    "buy_data = buy_data[is_food]\n",
    "\n",
    "buy_data = buy_data.drop(['big_cat', 'Unnamed: 0'], axis=1)"
   ]
  },
  {
   "cell_type": "code",
   "execution_count": 12,
   "id": "automotive-scientist",
   "metadata": {},
   "outputs": [
    {
     "data": {
      "text/plain": [
       "(1229819, 5)"
      ]
     },
     "execution_count": 12,
     "metadata": {},
     "output_type": "execute_result"
    }
   ],
   "source": [
    "buy_data.head()\n",
    "buy_data.shape"
   ]
  },
  {
   "cell_type": "code",
   "execution_count": 13,
   "id": "informed-exhibit",
   "metadata": {},
   "outputs": [],
   "source": [
    "buy_data.to_csv('C:/Users/hello/Downloads/modify_buy_data.csv', encoding = 'utf-8')"
   ]
  },
  {
   "cell_type": "code",
   "execution_count": 14,
   "id": "median-student",
   "metadata": {},
   "outputs": [
    {
     "data": {
      "text/html": [
       "<div>\n",
       "<style scoped>\n",
       "    .dataframe tbody tr th:only-of-type {\n",
       "        vertical-align: middle;\n",
       "    }\n",
       "\n",
       "    .dataframe tbody tr th {\n",
       "        vertical-align: top;\n",
       "    }\n",
       "\n",
       "    .dataframe thead th {\n",
       "        text-align: right;\n",
       "    }\n",
       "</style>\n",
       "<table border=\"1\" class=\"dataframe\">\n",
       "  <thead>\n",
       "    <tr style=\"text-align: right;\">\n",
       "      <th></th>\n",
       "      <th>date</th>\n",
       "      <th>sm_cat</th>\n",
       "      <th>cnt</th>\n",
       "    </tr>\n",
       "  </thead>\n",
       "  <tbody>\n",
       "    <tr>\n",
       "      <th>131</th>\n",
       "      <td>20180101</td>\n",
       "      <td>홍삼 분말/환</td>\n",
       "      <td>0.419303</td>\n",
       "    </tr>\n",
       "    <tr>\n",
       "      <th>132</th>\n",
       "      <td>20180101</td>\n",
       "      <td>탄산음료</td>\n",
       "      <td>12.877921</td>\n",
       "    </tr>\n",
       "    <tr>\n",
       "      <th>133</th>\n",
       "      <td>20180101</td>\n",
       "      <td>헛개/가시오가피</td>\n",
       "      <td>1.689494</td>\n",
       "    </tr>\n",
       "    <tr>\n",
       "      <th>134</th>\n",
       "      <td>20180101</td>\n",
       "      <td>한방 분말/환제품</td>\n",
       "      <td>2.176787</td>\n",
       "    </tr>\n",
       "    <tr>\n",
       "      <th>135</th>\n",
       "      <td>20180101</td>\n",
       "      <td>이온음료</td>\n",
       "      <td>1.643678</td>\n",
       "    </tr>\n",
       "  </tbody>\n",
       "</table>\n",
       "</div>"
      ],
      "text/plain": [
       "         date     sm_cat        cnt\n",
       "131  20180101    홍삼 분말/환   0.419303\n",
       "132  20180101       탄산음료  12.877921\n",
       "133  20180101   헛개/가시오가피   1.689494\n",
       "134  20180101  한방 분말/환제품   2.176787\n",
       "135  20180101       이온음료   1.643678"
      ]
     },
     "execution_count": 14,
     "metadata": {},
     "output_type": "execute_result"
    }
   ],
   "source": [
    "data.head()"
   ]
  },
  {
   "cell_type": "code",
   "execution_count": null,
   "id": "aware-mathematics",
   "metadata": {},
   "outputs": [],
   "source": []
  }
 ],
 "metadata": {
  "kernelspec": {
   "display_name": "Python 3",
   "language": "python",
   "name": "python3"
  },
  "language_info": {
   "codemirror_mode": {
    "name": "ipython",
    "version": 3
   },
   "file_extension": ".py",
   "mimetype": "text/x-python",
   "name": "python",
   "nbconvert_exporter": "python",
   "pygments_lexer": "ipython3",
   "version": "3.6.9"
  }
 },
 "nbformat": 4,
 "nbformat_minor": 5
}
