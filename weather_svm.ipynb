{
 "cells": [
  {
   "cell_type": "code",
   "execution_count": 57,
   "id": "moving-russell",
   "metadata": {},
   "outputs": [],
   "source": [
    "import pandas as pd\n",
    "import numpy as np\n",
    "import matplotlib.pyplot as plt\n",
    "import seaborn as sns\n",
    "%matplotlib inline\n",
    "\n",
    "from pandas_datareader.data import DataReader\n",
    "from datetime import datetime\n",
    "\n",
    "from sklearn.model_selection import train_test_split\n",
    "from sklearn.metrics import mean_squared_error\n",
    "from sklearn.svm import SVC"
   ]
  },
  {
   "cell_type": "code",
   "execution_count": 68,
   "id": "voluntary-dylan",
   "metadata": {
    "scrolled": true
   },
   "outputs": [],
   "source": [
    "data = pd.read_csv(\"C:/Users/hello/Downloads/finally.csv\", encoding = 'cp949')"
   ]
  },
  {
   "cell_type": "code",
   "execution_count": 69,
   "id": "insured-electronics",
   "metadata": {},
   "outputs": [],
   "source": [
    "data = data.drop(['big_cat', 'sum'], axis=1)"
   ]
  },
  {
   "cell_type": "code",
   "execution_count": 70,
   "id": "august-cardiff",
   "metadata": {},
   "outputs": [],
   "source": [
    "sm_cat = ['과일채소 분말/분태', '유자차', '마/야콘', '옥수수', '딸기/복분자/블루베리', '오징어', '절임배추/김치속', '굴 생물', '미나리', '참외/메론/수박', '감귤/한라봉/오렌지', '코코아/핫초코', '이온음료', '수산 생물']\n",
    "mean = []\n",
    "result = []"
   ]
  },
  {
   "cell_type": "code",
   "execution_count": 71,
   "id": "coastal-insured",
   "metadata": {
    "scrolled": true
   },
   "outputs": [],
   "source": [
    "data['cnt']= round(data['cnt'])"
   ]
  },
  {
   "cell_type": "code",
   "execution_count": 74,
   "id": "improving-direction",
   "metadata": {},
   "outputs": [
    {
     "data": {
      "text/plain": [
       "1.0       14620\n",
       "0.0       10903\n",
       "2.0       10327\n",
       "3.0        7393\n",
       "4.0        5764\n",
       "          ...  \n",
       "1738.0        1\n",
       "646.0         1\n",
       "1279.0        1\n",
       "1639.0        1\n",
       "1524.0        1\n",
       "Name: cnt, Length: 1117, dtype: int64"
      ]
     },
     "execution_count": 74,
     "metadata": {},
     "output_type": "execute_result"
    }
   ],
   "source": [
    "data['cnt'].value_counts()"
   ]
  },
  {
   "cell_type": "code",
   "execution_count": 75,
   "id": "patent-accounting",
   "metadata": {},
   "outputs": [],
   "source": [
    "svm = SVC(kernel='linear', C=1.0, random_state=0)"
   ]
  },
  {
   "cell_type": "code",
   "execution_count": 76,
   "id": "governing-devil",
   "metadata": {},
   "outputs": [],
   "source": [
    "for i in sm_cat:\n",
    "    data1 = data[data['sm_cat']==i]\n",
    "    data1 = data1.drop(['sm_cat', 'date'], axis=1)\n",
    "    mean.append(data1['cnt'].mean())\n",
    "    \n",
    "    train, test = train_test_split(data1, test_size = 0.3, shuffle = False, random_state = 10)\n",
    "    \n",
    "    x_train = train.drop('cnt', axis =1)\n",
    "    y_train = train['cnt']\n",
    "    x_test = test.drop('cnt', axis=1)\n",
    "    y_test = test['cnt']\n",
    "    \n",
    "    svm.fit(x_train, y_train)\n",
    "    \n",
    "    svm_pred = svm.predict(x_test)\n",
    "    RMSE = mean_squared_error(y_test, svm_pred)\n",
    "    result.append(np.sqrt(RMSE))"
   ]
  },
  {
   "cell_type": "code",
   "execution_count": 77,
   "id": "unexpected-simulation",
   "metadata": {},
   "outputs": [
    {
     "name": "stdout",
     "output_type": "stream",
     "text": [
      "[0.13514747567989718, 1.3378917511889903, 29.396595336052066, 18.31298164700803, 21.84754147480102, 10.783464425815623, 3.746535690523353, 7.4958131388043645, 2.2614498117671222, 12.843455060829363, 14.886173904532411, 4.188481705276244, 1.1041639743225553, 0.4681645887845222]\n"
     ]
    }
   ],
   "source": [
    "print(result)"
   ]
  },
  {
   "cell_type": "code",
   "execution_count": 78,
   "id": "political-custom",
   "metadata": {},
   "outputs": [
    {
     "name": "stdout",
     "output_type": "stream",
     "text": [
      "[0.00821917808219178, 7.958904109589041, 382.6972602739726, 89.00821917808219, 433.372602739726, 140.55068493150685, 3.4383561643835616, 59.35479452054795, 22.94931506849315, 126.87260273972603, 189.7890410958904, 33.794520547945204, 3.1904109589041094, 1.0095890410958903]\n"
     ]
    }
   ],
   "source": [
    "print(mean)"
   ]
  },
  {
   "cell_type": "code",
   "execution_count": null,
   "id": "pretty-providence",
   "metadata": {},
   "outputs": [],
   "source": []
  }
 ],
 "metadata": {
  "kernelspec": {
   "display_name": "Python 3",
   "language": "python",
   "name": "python3"
  },
  "language_info": {
   "codemirror_mode": {
    "name": "ipython",
    "version": 3
   },
   "file_extension": ".py",
   "mimetype": "text/x-python",
   "name": "python",
   "nbconvert_exporter": "python",
   "pygments_lexer": "ipython3",
   "version": "3.6.9"
  }
 },
 "nbformat": 4,
 "nbformat_minor": 5
}
